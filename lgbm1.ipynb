{
 "cells": [
  {
   "cell_type": "code",
   "execution_count": null,
   "metadata": {},
   "outputs": [],
   "source": [
    "import pandas as pd\n",
    "import numpy as np\n",
    "import lightgbm as lgb\n",
    "from sklearn.metrics import mean_absolute_error\n",
    "from sklearn.metrics import mean_squared_log_error"
   ]
  },
  {
   "cell_type": "code",
   "execution_count": 15,
   "metadata": {
    "tags": []
   },
   "outputs": [],
   "source": [
    "def read_data():\n",
    "    train = pd.read_csv('input/train.csv')\n",
    "    test = pd.read_csv('input/test.csv')\n",
    "    sample = pd.read_csv('input/sample_submission.csv')\n",
    "    return train, test, sample\n",
    "\n",
    "# Print the complete description of the columns\n",
    "def columns_description():\n",
    "    description = open('input/data_description.txt')\n",
    "    print(description.read())\n",
    "    description.close()\n",
    "\n",
    "# Print columns names enumerated (one per line)\n",
    "def columns_names(df):\n",
    "    col_enum = enumerate(df.columns)\n",
    "    for i, item in col_enum:\n",
    "        print(i, item)\n",
    "\n",
    "# Return a list with columns names that have 'int64' of 'float64' as its only data types\n",
    "def columns_numeric(df, drop=True):\n",
    "    col_enum = enumerate(df.columns)\n",
    "    df_numeric = []\n",
    "    for i, item in col_enum:\n",
    "        if (df[item].dtype == 'int64') | (df[item].dtype == 'float64'):\n",
    "            # print(i, item, '-->', train[item].dtype)\n",
    "            df_numeric.append(item)\n",
    "    if drop == True:\n",
    "        df_numeric.pop(0) # drop 'Id'\n",
    "        df_numeric.pop(-1) # drop 'SalePrice' (target)\n",
    "    # print(df_numeric)\n",
    "    return df_numeric\n",
    "\n",
    "# Returns the reduced df as an np.array\n",
    "def df_subset(df, list_col_names):\n",
    "    df = df[list_col_names]\n",
    "    return np.array(df)\n",
    "\n",
    "# Returns a trainned LGBMRegressor model\n",
    "def trainlgbm(xtrain, ytrain, n_est=10):\n",
    "    model = lgb.LGBMRegressor(n_estimators=n_est)\n",
    "    return model.fit(xtrain, ytrain)\n",
    "\n",
    "# Validation: print mean_squared_log_error and feature importances\n",
    "def score(ytrue, ypred, model=None):\n",
    "    score = mean_squared_log_error(ytrue, ypred)\n",
    "    print(f'The MSLE score is: {score:.4f}\\n')\n",
    "    if model != None:\n",
    "        featureimportances = model.feature_importances_\n",
    "        print(f'The features importances are {featureimportances}\\n')\n",
    "\n",
    "# Make the submission file\n",
    "def make_submission(model, sample, test, file_name='submission.csv'):\n",
    "    test_prediction = model.predict(test)\n",
    "    submission = sample.copy()\n",
    "    submission['SalePrice'] = test_prediction\n",
    "    submission.to_csv(file_name, index=False)\n",
    "\n",
    "# Print and returns the column names that have features importances > N\n",
    "def fi_greater_than_N(model, train_set ,N): # train[train_numeric]\n",
    "    fi_N = []\n",
    "    for i in range(len(model.feature_importances_)):\n",
    "        if model.feature_importances_[i] > N:\n",
    "            print(f'{i}: ', list(train_set.columns)[i], model.feature_importances_[i])\n",
    "            fi_N.append(list(train_set.columns)[i])\n",
    "    return fi_N"
   ]
  },
  {
   "cell_type": "code",
   "execution_count": null,
   "metadata": {
    "tags": []
   },
   "outputs": [],
   "source": [
    "# Load the data\n",
    "train, test, sample = read_data()"
   ]
  },
  {
   "cell_type": "code",
   "execution_count": null,
   "metadata": {
    "tags": []
   },
   "outputs": [],
   "source": [
    "# Get the subsets that we want\n",
    "col_num = columns_numeric(train) # This drops Id and SalePrice columns\n",
    "xtrain = df_subset(train, col_num)\n",
    "ytrain = df_subset(train, ['SalePrice'])\n",
    "xtest = df_subset(test, col_num)\n"
   ]
  },
  {
   "cell_type": "code",
   "execution_count": null,
   "metadata": {},
   "outputs": [],
   "source": [
    "# Train the model\n",
    "model1 = trainlgbm(xtrain, ytrain, n_est=1000)"
   ]
  },
  {
   "cell_type": "code",
   "execution_count": 14,
   "metadata": {
    "tags": []
   },
   "outputs": [
    {
     "output_type": "stream",
     "name": "stdout",
     "text": "The MSLE score is: 0.0000\n\n"
    }
   ],
   "source": [
    "# Validate\n",
    "pred_xtrain = model1.predict(xtrain)\n",
    "score(ytrain, pred_xtrain)\n"
   ]
  },
  {
   "cell_type": "code",
   "execution_count": 16,
   "metadata": {},
   "outputs": [],
   "source": [
    "# Make the submission file\n",
    "make_submission(model1, sample, xtest, file_name='sub1.csv')"
   ]
  },
  {
   "cell_type": "code",
   "execution_count": null,
   "metadata": {},
   "outputs": [],
   "source": []
  }
 ],
 "metadata": {
  "language_info": {
   "codemirror_mode": {
    "name": "ipython",
    "version": 3
   },
   "file_extension": ".py",
   "mimetype": "text/x-python",
   "name": "python",
   "nbconvert_exporter": "python",
   "pygments_lexer": "ipython3",
   "version": "3.8.2-final"
  },
  "orig_nbformat": 2,
  "kernelspec": {
   "name": "python38264bit00e6579b7c2c41caa6a8aa7b3b13ad72",
   "display_name": "Python 3.8.2 64-bit"
  }
 },
 "nbformat": 4,
 "nbformat_minor": 2
}