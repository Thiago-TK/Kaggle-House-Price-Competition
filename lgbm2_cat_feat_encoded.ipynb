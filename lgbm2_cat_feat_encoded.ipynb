{
 "cells": [
  {
   "cell_type": "markdown",
   "metadata": {},
   "source": [
    "### Imports"
   ]
  },
  {
   "cell_type": "code",
   "execution_count": 1,
   "metadata": {},
   "outputs": [],
   "source": [
    "import pandas as pd\n",
    "import numpy as np\n",
    "import lightgbm as lgb\n",
    "import math\n",
    "from sklearn.preprocessing import LabelEncoder\n",
    "from sklearn.model_selection import train_test_split\n",
    "from sklearn.metrics import mean_absolute_error\n",
    "from sklearn.metrics import mean_squared_log_error"
   ]
  },
  {
   "cell_type": "markdown",
   "metadata": {},
   "source": [
    "### Functions to Read, Train, Validate and Submit"
   ]
  },
  {
   "cell_type": "code",
   "execution_count": 2,
   "metadata": {},
   "outputs": [],
   "source": [
    "# Returns the train and test datasets and a sample of the submission file\n",
    "def read_data():\n",
    "    train = pd.read_csv('input/train.csv')\n",
    "    test = pd.read_csv('input/test.csv')\n",
    "    sample = pd.read_csv('input/sample_submission.csv')\n",
    "    return train, test, sample\n",
    "\n",
    "# Returns a trainned LGBMRegressor model\n",
    "def trainlgbm(xtrain, ytrain, n_est=10):\n",
    "    model = lgb.LGBMRegressor(n_estimators=n_est)\n",
    "    return model.fit(xtrain, ytrain)\n",
    "\n",
    "# Validation: print mean_squared_log_error and feature importances\n",
    "def score(ytrue, ypred, model=None):\n",
    "    score = mean_squared_log_error(ytrue, ypred)\n",
    "    print(f'The MSLE score is: {score:.4f}\\n')\n",
    "    if model != None:\n",
    "        featureimportances = model.feature_importances_\n",
    "        print(f'The features importances are {featureimportances}\\n')\n",
    "\n",
    "# Make the submission file\n",
    "def make_submission(model, sample, test, file_name='submission.csv'):\n",
    "    test_prediction = model.predict(test)\n",
    "    submission = sample.copy()\n",
    "    submission['SalePrice'] = test_prediction\n",
    "    submission.to_csv(file_name, index=False)"
   ]
  },
  {
   "cell_type": "markdown",
   "metadata": {},
   "source": [
    "### Auxiliary functions"
   ]
  },
  {
   "cell_type": "code",
   "execution_count": 13,
   "metadata": {
    "tags": []
   },
   "outputs": [],
   "source": [
    "# Print the complete description of the columns\n",
    "def columns_description():\n",
    "    description = open('input/data_description.txt')\n",
    "    print(description.read())\n",
    "    description.close()\n",
    "\n",
    "# Print columns names enumerated (one per line)\n",
    "def columns_names(df):\n",
    "    col_enum = enumerate(df.columns)\n",
    "    for i, item in col_enum:\n",
    "        print(i, item)\n",
    "\n",
    "# Return a list with columns names that have 'int64' of 'float64' as its only data types\n",
    "def columns_numeric(df, drop=True):\n",
    "    col_enum = enumerate(df.columns)\n",
    "    df_numeric = []\n",
    "    for i, item in col_enum:\n",
    "        if (df[item].dtype == 'int64') | (df[item].dtype == 'float64'):\n",
    "            # print(i, item, '-->', train[item].dtype)\n",
    "            df_numeric.append(item)\n",
    "    if drop == True:\n",
    "        df_numeric.pop(0) # drop 'Id'\n",
    "        df_numeric.pop(-1) # drop 'SalePrice' (target)\n",
    "    # print(df_numeric)\n",
    "    return df_numeric\n",
    "\n",
    "# Returns the reduced df\n",
    "def df_subset(df, list_col_names):\n",
    "    df = df[list_col_names]\n",
    "    return df\n",
    "\n",
    "# Print and returns the column names that have features importances > N\n",
    "def fi_greater_than_N(model, train_set ,N): # train[train_numeric]\n",
    "    fi_N = []\n",
    "    for i in range(len(model.feature_importances_)):\n",
    "        if model.feature_importances_[i] > N:\n",
    "            print(f'{i}: ', list(train_set.columns)[i], model.feature_importances_[i])\n",
    "            fi_N.append(list(train_set.columns)[i])\n",
    "    return fi_N\n",
    "\n",
    "# Print the name of each column and the first examples of it in each line\n",
    "def cols_example(df):\n",
    "    cols = df.columns\n",
    "    for item in cols:\n",
    "        print(f'{item:<15}: {df[item][0]:<10}, {df[item][1]:<10}')"
   ]
  },
  {
   "cell_type": "markdown",
   "metadata": {},
   "source": [
    "### Functions for feature engineering"
   ]
  },
  {
   "cell_type": "code",
   "execution_count": 4,
   "metadata": {},
   "outputs": [],
   "source": [
    "# Returns the dataframe without the categorical columns and with the encoded ones at the end\n",
    "def encode_data(df, list_categorical_features):\n",
    "    cat = list_categorical_features\n",
    "    encoder = LabelEncoder()\n",
    "    df_encoded = df[cat].apply(encoder.fit_transform)\n",
    "    #new_df = df.drop([cat], axis=1)\n",
    "    return df_encoded\n",
    "\n",
    "# Prints the name of the column and the percentage of NaN values in it\n",
    "def percentage_nan(df, list_cols):\n",
    "    n=0\n",
    "    print('Percentage of NaN values\\n')\n",
    "    for item in list_cols:\n",
    "        df_isna = df[item].isna().astype('int')\n",
    "        isna_number = sum(df_isna)\n",
    "        perc = isna_number/len(df_isna)\n",
    "        print(f'{item:<15}{perc * 100:.2f}%')"
   ]
  },
  {
   "cell_type": "markdown",
   "metadata": {},
   "source": [
    "### Starting..."
   ]
  },
  {
   "cell_type": "code",
   "execution_count": 5,
   "metadata": {
    "tags": []
   },
   "outputs": [],
   "source": [
    "# Read and prepare data\n",
    "train, test, sample = read_data()\n",
    "ytrain_base = train['SalePrice']\n",
    "xtrain_base = train.drop(['Id', 'SalePrice'], axis=1)\n",
    "xtest_base = test.drop(['Id'], axis=1)"
   ]
  },
  {
   "cell_type": "markdown",
   "metadata": {},
   "source": [
    "### Categorical Features\n",
    "Analysing the data description file we can see that these are the categorical features. This is just a preliminary analysis, we still have datetime data and we didn't check the quantity of missing data, for example."
   ]
  },
  {
   "cell_type": "code",
   "execution_count": 6,
   "metadata": {},
   "outputs": [],
   "source": [
    "cat_feat = ['MSSubClass', 'MSZoning', 'Street', 'Alley', 'LotShape', 'LandContour', 'Utilities',\n",
    " 'LotConfig', 'LandSlope', 'Neighborhood', 'Condition1', 'Condition2', 'BldgType', \n",
    " 'HouseStyle', 'RoofStyle', 'RoofMatl', 'Exterior1st', 'Exterior2nd', 'MasVnrType', \n",
    " 'ExterQual', 'ExterCond', 'Foundation', 'BsmtQual', 'BsmtCond', 'BsmtExposure', \n",
    " 'BsmtFinType1', 'BsmtFinType2', 'Heating', 'HeatingQC', 'CentralAir', 'Electrical', \n",
    " 'KitchenQual', 'Functional', 'FireplaceQu', 'GarageType', 'GarageFinish', 'GarageQual',\n",
    " 'GarageCond', 'PavedDrive', 'PoolQC', 'Fence', 'MiscFeature', 'SaleType', 'SaleCondition']"
   ]
  },
  {
   "cell_type": "code",
   "execution_count": 7,
   "metadata": {},
   "outputs": [],
   "source": [
    "xtrain_cat = xtrain_base[cat_feat]\n",
    "xtrain_cat = xtrain_cat.fillna('missing')\n",
    "xtest_cat = xtest_base[cat_feat]\n",
    "xtest_cat = xtest_cat.fillna('missing')"
   ]
  },
  {
   "cell_type": "markdown",
   "metadata": {},
   "source": [
    "### Numerical features\n",
    "\n",
    "Here we have a lazy numerical features selection. We looked at the data and filtered as numerical the 'int64' and 'float64' columns. Here we have datetime data and categorical data that were already encoded (like grades 1-10)."
   ]
  },
  {
   "cell_type": "code",
   "execution_count": 17,
   "metadata": {},
   "outputs": [],
   "source": [
    "num_feat = columns_numeric(xtrain_base, drop=False)\n",
    "xtrain_num = xtrain_base[num_feat]\n",
    "xtrain_num = xtrain_num.fillna(0)"
   ]
  },
  {
   "cell_type": "code",
   "execution_count": null,
   "metadata": {},
   "outputs": [],
   "source": []
  }
 ],
 "metadata": {
  "language_info": {
   "codemirror_mode": {
    "name": "ipython",
    "version": 3
   },
   "file_extension": ".py",
   "mimetype": "text/x-python",
   "name": "python",
   "nbconvert_exporter": "python",
   "pygments_lexer": "ipython3",
   "version": "3.8.2-final"
  },
  "orig_nbformat": 2,
  "kernelspec": {
   "name": "python38264bit00e6579b7c2c41caa6a8aa7b3b13ad72",
   "display_name": "Python 3.8.2 64-bit"
  }
 },
 "nbformat": 4,
 "nbformat_minor": 2
}