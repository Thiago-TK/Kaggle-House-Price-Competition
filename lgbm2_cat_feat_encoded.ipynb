{
 "cells": [
  {
   "cell_type": "markdown",
   "metadata": {},
   "source": [
    "### Imports"
   ]
  },
  {
   "cell_type": "code",
   "execution_count": 47,
   "metadata": {},
   "outputs": [],
   "source": [
    "import pandas as pd\n",
    "import numpy as np\n",
    "import lightgbm as lgb\n",
    "import math\n",
    "from sklearn.preprocessing import LabelEncoder\n",
    "from sklearn.model_selection import train_test_split\n",
    "from sklearn.metrics import mean_absolute_error\n",
    "from sklearn.metrics import mean_squared_log_error"
   ]
  },
  {
   "cell_type": "markdown",
   "metadata": {},
   "source": [
    "### Functions to Read, Train, Validate and Submit"
   ]
  },
  {
   "cell_type": "code",
   "execution_count": 48,
   "metadata": {},
   "outputs": [],
   "source": [
    "# Returns the train and test datasets and a sample of the submission file\n",
    "def read_data():\n",
    "    train = pd.read_csv('input/train.csv')\n",
    "    test = pd.read_csv('input/test.csv')\n",
    "    sample = pd.read_csv('input/sample_submission.csv')\n",
    "    return train, test, sample\n",
    "\n",
    "# Returns a trainned LGBMRegressor model\n",
    "def trainlgbm(xtrain, ytrain, n_est=10):\n",
    "    model = lgb.LGBMRegressor(n_estimators=n_est)\n",
    "    return model.fit(xtrain, ytrain)\n",
    "\n",
    "# Validation: print mean_squared_log_error and feature importances\n",
    "def score(ytrue, ypred, model=None):\n",
    "    score = mean_squared_log_error(ytrue, ypred)\n",
    "    print(f'The MSLE score is: {score:.4f}\\n')\n",
    "    if model != None:\n",
    "        featureimportances = model.feature_importances_\n",
    "        print(f'The features importances are {featureimportances}\\n')\n",
    "\n",
    "# Make the submission file\n",
    "def make_submission(model, sample, test, file_name='submission.csv'):\n",
    "    test_prediction = model.predict(test)\n",
    "    submission = sample.copy()\n",
    "    submission['SalePrice'] = test_prediction\n",
    "    submission.to_csv(file_name, index=False)"
   ]
  },
  {
   "cell_type": "markdown",
   "metadata": {},
   "source": [
    "### Auxiliary functions"
   ]
  },
  {
   "cell_type": "code",
   "execution_count": 49,
   "metadata": {
    "tags": []
   },
   "outputs": [],
   "source": [
    "# Print the complete description of the columns\n",
    "def columns_description():\n",
    "    description = open('input/data_description.txt')\n",
    "    print(description.read())\n",
    "    description.close()\n",
    "\n",
    "# Print columns names enumerated (one per line)\n",
    "def columns_names(df):\n",
    "    col_enum = enumerate(df.columns)\n",
    "    for i, item in col_enum:\n",
    "        print(i, item)\n",
    "\n",
    "# Return a list with columns names that have 'int64' of 'float64' as its only data types\n",
    "def columns_numeric(df, drop=True):\n",
    "    col_enum = enumerate(df.columns)\n",
    "    df_numeric = []\n",
    "    for i, item in col_enum:\n",
    "        if (df[item].dtype == 'int64') | (df[item].dtype == 'float64'):\n",
    "            # print(i, item, '-->', train[item].dtype)\n",
    "            df_numeric.append(item)\n",
    "    if drop == True:\n",
    "        df_numeric.pop(0) # drop 'Id'\n",
    "        df_numeric.pop(-1) # drop 'SalePrice' (target)\n",
    "    # print(df_numeric)\n",
    "    return df_numeric\n",
    "\n",
    "# Returns the reduced df\n",
    "def df_subset(df, list_col_names):\n",
    "    df = df[list_col_names]\n",
    "    return df\n",
    "\n",
    "# Print and returns the column names that have features importances > N\n",
    "def fi_greater_than_N(model, train_set ,N): # train[train_numeric]\n",
    "    fi_N = []\n",
    "    for i in range(len(model.feature_importances_)):\n",
    "        if model.feature_importances_[i] > N:\n",
    "            print(f'{i}: ', list(train_set.columns)[i], model.feature_importances_[i])\n",
    "            fi_N.append(list(train_set.columns)[i])\n",
    "    return fi_N\n",
    "\n",
    "# Print the name of each column and the first examples of it in each line\n",
    "def cols_example(df):\n",
    "    cols = df.columns\n",
    "    for item in cols:\n",
    "        print(f'{item:<15}: {df[item][0]:<10}, {df[item][1]:<10}')\n",
    "\n",
    "# Find duplicate column names\n",
    "def find_dup(list_1, list_2):\n",
    "    return set(list_1) & set(list_2)"
   ]
  },
  {
   "cell_type": "markdown",
   "metadata": {},
   "source": [
    "### Functions for feature engineering"
   ]
  },
  {
   "cell_type": "code",
   "execution_count": 50,
   "metadata": {},
   "outputs": [],
   "source": [
    "# Returns the dataframe without the categorical columns and with the encoded ones at the end\n",
    "def encode_data(df, list_categorical_features):\n",
    "    cat = list_categorical_features\n",
    "    encoder = LabelEncoder()\n",
    "    df_encoded = df[cat].apply(encoder.fit_transform)\n",
    "    #new_df = df.drop([cat], axis=1)\n",
    "    return df_encoded\n",
    "\n",
    "# Prints the name of the column and the percentage of NaN values in it\n",
    "def percentage_nan(df, list_cols):\n",
    "    n=0\n",
    "    print('Percentage of NaN values\\n')\n",
    "    for item in list_cols:\n",
    "        df_isna = df[item].isna().astype('int')\n",
    "        isna_number = sum(df_isna)\n",
    "        perc = isna_number/len(df_isna)\n",
    "        print(f'{item:<15}{perc * 100:.2f}%')"
   ]
  },
  {
   "cell_type": "markdown",
   "metadata": {},
   "source": [
    "### Starting..."
   ]
  },
  {
   "cell_type": "code",
   "execution_count": 51,
   "metadata": {
    "tags": []
   },
   "outputs": [],
   "source": [
    "# Read and prepare data\n",
    "train, test, sample = read_data()\n",
    "ytrain_base = train['SalePrice']\n",
    "ytrain = ytrain_base # no changes in the target\n",
    "xtrain_base = train.drop(['Id', 'SalePrice'], axis=1)\n",
    "xtest_base = test.drop(['Id'], axis=1)"
   ]
  },
  {
   "cell_type": "markdown",
   "metadata": {},
   "source": [
    "### Categorical Features\n",
    "Analysing the data description file we can see that these are the categorical features. This is just a preliminary analysis, we still have datetime data and we didn't check the quantity of missing data, for example."
   ]
  },
  {
   "cell_type": "code",
   "execution_count": 52,
   "metadata": {},
   "outputs": [],
   "source": [
    "cat_feat = ['MSSubClass', 'MSZoning', 'Street', 'Alley', 'LotShape', 'LandContour', 'Utilities',\n",
    " 'LotConfig', 'LandSlope', 'Neighborhood', 'Condition1', 'Condition2', 'BldgType', \n",
    " 'HouseStyle', 'RoofStyle', 'RoofMatl', 'Exterior1st', 'Exterior2nd', 'MasVnrType', \n",
    " 'ExterQual', 'ExterCond', 'Foundation', 'BsmtQual', 'BsmtCond', 'BsmtExposure', \n",
    " 'BsmtFinType1', 'BsmtFinType2', 'Heating', 'HeatingQC', 'CentralAir', 'Electrical', \n",
    " 'KitchenQual', 'Functional', 'FireplaceQu', 'GarageType', 'GarageFinish', 'GarageQual',\n",
    " 'GarageCond', 'PavedDrive', 'PoolQC', 'Fence', 'MiscFeature', 'SaleType', 'SaleCondition']"
   ]
  },
  {
   "cell_type": "code",
   "execution_count": 53,
   "metadata": {},
   "outputs": [],
   "source": [
    "xtrain_cat = xtrain_base[cat_feat]\n",
    "xtrain_cat = xtrain_cat.fillna('missing')\n",
    "\n",
    "xtest_cat = xtest_base[cat_feat]\n",
    "xtest_cat = xtest_cat.fillna('missing')"
   ]
  },
  {
   "cell_type": "markdown",
   "metadata": {},
   "source": [
    "### Numerical features\n",
    "\n",
    "Here we have a lazy numerical features selection. I looked at the data and filtered as numerical the 'int64' and 'float64' columns. We also have datetime data and categorical data that were already encoded (like grades 1-10)."
   ]
  },
  {
   "cell_type": "code",
   "execution_count": 54,
   "metadata": {},
   "outputs": [],
   "source": [
    "num_feat = columns_numeric(xtrain_base, drop=False)\n",
    "xtrain_num = xtrain_base[num_feat]\n",
    "xtrain_num = xtrain_num.fillna(0)\n",
    "\n",
    "xtest_num = xtest_base[num_feat]\n",
    "xtest_num = xtest_num.fillna(0)"
   ]
  },
  {
   "cell_type": "markdown",
   "metadata": {},
   "source": [
    "### Duplicate column names\n",
    "Because of the very simple way I separated numerical features and categorical features some columns could be in both. Let's put them only in the categorical features part."
   ]
  },
  {
   "cell_type": "code",
   "execution_count": 55,
   "metadata": {},
   "outputs": [
    {
     "output_type": "execute_result",
     "data": {
      "text/plain": "{'MSSubClass'}"
     },
     "metadata": {},
     "execution_count": 55
    }
   ],
   "source": [
    "find_dup(xtrain_cat.columns, xtrain_num.columns)"
   ]
  },
  {
   "cell_type": "code",
   "execution_count": 56,
   "metadata": {},
   "outputs": [],
   "source": [
    "xtrain_num = xtrain_num.drop(['MSSubClass'], axis=1)\n",
    "xtest_num = xtest_num.drop(['MSSubClass'], axis=1)"
   ]
  },
  {
   "cell_type": "markdown",
   "metadata": {},
   "source": [
    "### Encoding categorical features"
   ]
  },
  {
   "cell_type": "code",
   "execution_count": 57,
   "metadata": {},
   "outputs": [
    {
     "output_type": "execute_result",
     "data": {
      "text/plain": "   MSSubClass MSZoning Street    Alley LotShape LandContour Utilities  \\\n0          60       RL   Pave  missing      Reg         Lvl    AllPub   \n1          20       RL   Pave  missing      Reg         Lvl    AllPub   \n2          60       RL   Pave  missing      IR1         Lvl    AllPub   \n3          70       RL   Pave  missing      IR1         Lvl    AllPub   \n4          60       RL   Pave  missing      IR1         Lvl    AllPub   \n\n  LotConfig LandSlope Neighborhood  ... GarageType GarageFinish GarageQual  \\\n0    Inside       Gtl      CollgCr  ...     Attchd          RFn         TA   \n1       FR2       Gtl      Veenker  ...     Attchd          RFn         TA   \n2    Inside       Gtl      CollgCr  ...     Attchd          RFn         TA   \n3    Corner       Gtl      Crawfor  ...     Detchd          Unf         TA   \n4       FR2       Gtl      NoRidge  ...     Attchd          RFn         TA   \n\n  GarageCond PavedDrive   PoolQC    Fence MiscFeature SaleType SaleCondition  \n0         TA          Y  missing  missing     missing       WD        Normal  \n1         TA          Y  missing  missing     missing       WD        Normal  \n2         TA          Y  missing  missing     missing       WD        Normal  \n3         TA          Y  missing  missing     missing       WD       Abnorml  \n4         TA          Y  missing  missing     missing       WD        Normal  \n\n[5 rows x 44 columns]",
      "text/html": "<div>\n<style scoped>\n    .dataframe tbody tr th:only-of-type {\n        vertical-align: middle;\n    }\n\n    .dataframe tbody tr th {\n        vertical-align: top;\n    }\n\n    .dataframe thead th {\n        text-align: right;\n    }\n</style>\n<table border=\"1\" class=\"dataframe\">\n  <thead>\n    <tr style=\"text-align: right;\">\n      <th></th>\n      <th>MSSubClass</th>\n      <th>MSZoning</th>\n      <th>Street</th>\n      <th>Alley</th>\n      <th>LotShape</th>\n      <th>LandContour</th>\n      <th>Utilities</th>\n      <th>LotConfig</th>\n      <th>LandSlope</th>\n      <th>Neighborhood</th>\n      <th>...</th>\n      <th>GarageType</th>\n      <th>GarageFinish</th>\n      <th>GarageQual</th>\n      <th>GarageCond</th>\n      <th>PavedDrive</th>\n      <th>PoolQC</th>\n      <th>Fence</th>\n      <th>MiscFeature</th>\n      <th>SaleType</th>\n      <th>SaleCondition</th>\n    </tr>\n  </thead>\n  <tbody>\n    <tr>\n      <th>0</th>\n      <td>60</td>\n      <td>RL</td>\n      <td>Pave</td>\n      <td>missing</td>\n      <td>Reg</td>\n      <td>Lvl</td>\n      <td>AllPub</td>\n      <td>Inside</td>\n      <td>Gtl</td>\n      <td>CollgCr</td>\n      <td>...</td>\n      <td>Attchd</td>\n      <td>RFn</td>\n      <td>TA</td>\n      <td>TA</td>\n      <td>Y</td>\n      <td>missing</td>\n      <td>missing</td>\n      <td>missing</td>\n      <td>WD</td>\n      <td>Normal</td>\n    </tr>\n    <tr>\n      <th>1</th>\n      <td>20</td>\n      <td>RL</td>\n      <td>Pave</td>\n      <td>missing</td>\n      <td>Reg</td>\n      <td>Lvl</td>\n      <td>AllPub</td>\n      <td>FR2</td>\n      <td>Gtl</td>\n      <td>Veenker</td>\n      <td>...</td>\n      <td>Attchd</td>\n      <td>RFn</td>\n      <td>TA</td>\n      <td>TA</td>\n      <td>Y</td>\n      <td>missing</td>\n      <td>missing</td>\n      <td>missing</td>\n      <td>WD</td>\n      <td>Normal</td>\n    </tr>\n    <tr>\n      <th>2</th>\n      <td>60</td>\n      <td>RL</td>\n      <td>Pave</td>\n      <td>missing</td>\n      <td>IR1</td>\n      <td>Lvl</td>\n      <td>AllPub</td>\n      <td>Inside</td>\n      <td>Gtl</td>\n      <td>CollgCr</td>\n      <td>...</td>\n      <td>Attchd</td>\n      <td>RFn</td>\n      <td>TA</td>\n      <td>TA</td>\n      <td>Y</td>\n      <td>missing</td>\n      <td>missing</td>\n      <td>missing</td>\n      <td>WD</td>\n      <td>Normal</td>\n    </tr>\n    <tr>\n      <th>3</th>\n      <td>70</td>\n      <td>RL</td>\n      <td>Pave</td>\n      <td>missing</td>\n      <td>IR1</td>\n      <td>Lvl</td>\n      <td>AllPub</td>\n      <td>Corner</td>\n      <td>Gtl</td>\n      <td>Crawfor</td>\n      <td>...</td>\n      <td>Detchd</td>\n      <td>Unf</td>\n      <td>TA</td>\n      <td>TA</td>\n      <td>Y</td>\n      <td>missing</td>\n      <td>missing</td>\n      <td>missing</td>\n      <td>WD</td>\n      <td>Abnorml</td>\n    </tr>\n    <tr>\n      <th>4</th>\n      <td>60</td>\n      <td>RL</td>\n      <td>Pave</td>\n      <td>missing</td>\n      <td>IR1</td>\n      <td>Lvl</td>\n      <td>AllPub</td>\n      <td>FR2</td>\n      <td>Gtl</td>\n      <td>NoRidge</td>\n      <td>...</td>\n      <td>Attchd</td>\n      <td>RFn</td>\n      <td>TA</td>\n      <td>TA</td>\n      <td>Y</td>\n      <td>missing</td>\n      <td>missing</td>\n      <td>missing</td>\n      <td>WD</td>\n      <td>Normal</td>\n    </tr>\n  </tbody>\n</table>\n<p>5 rows × 44 columns</p>\n</div>"
     },
     "metadata": {},
     "execution_count": 57
    }
   ],
   "source": [
    "xtrain_cat.head()"
   ]
  },
  {
   "cell_type": "code",
   "execution_count": 58,
   "metadata": {
    "tags": []
   },
   "outputs": [
    {
     "output_type": "stream",
     "name": "stdout",
     "text": "MSSubClass  MSZoning  Street  Alley  LotShape  LandContour  Utilities  \\\n0           5         3       1      2         3            3          0   \n1           0         3       1      2         3            3          0   \n2           5         3       1      2         0            3          0   \n3           6         3       1      2         0            3          0   \n4           5         3       1      2         0            3          0   \n\n   LotConfig  LandSlope  Neighborhood  ...  GarageType  GarageFinish  \\\n0          4          0             5  ...           1             1   \n1          2          0            24  ...           1             1   \n2          4          0             5  ...           1             1   \n3          0          0             6  ...           5             2   \n4          2          0            15  ...           1             1   \n\n   GarageQual  GarageCond  PavedDrive  PoolQC  Fence  MiscFeature  SaleType  \\\n0           4           4           2       3      4            4         8   \n1           4           4           2       3      4            4         8   \n2           4           4           2       3      4            4         8   \n3           4           4           2       3      4            4         8   \n4           4           4           2       3      4            4         8   \n\n   SaleCondition  \n0              4  \n1              4  \n2              4  \n3              0  \n4              4  \n\n[5 rows x 44 columns]\n"
    }
   ],
   "source": [
    "xtrain_cat = encode_data(xtrain_cat, cat_feat)\n",
    "xtest_cat = encode_data(xtest_cat, cat_feat)\n",
    "print(xtrain_cat.head())"
   ]
  },
  {
   "cell_type": "code",
   "execution_count": 59,
   "metadata": {},
   "outputs": [
    {
     "output_type": "execute_result",
     "data": {
      "text/plain": "   LotFrontage  LotArea  OverallQual  OverallCond  YearBuilt  YearRemodAdd  \\\n0         65.0     8450            7            5       2003          2003   \n1         80.0     9600            6            8       1976          1976   \n2         68.0    11250            7            5       2001          2002   \n3         60.0     9550            7            5       1915          1970   \n4         84.0    14260            8            5       2000          2000   \n\n   MasVnrArea  BsmtFinSF1  BsmtFinSF2  BsmtUnfSF  ...  GarageType  \\\n0       196.0         706           0        150  ...           1   \n1         0.0         978           0        284  ...           1   \n2       162.0         486           0        434  ...           1   \n3         0.0         216           0        540  ...           5   \n4       350.0         655           0        490  ...           1   \n\n   GarageFinish  GarageQual  GarageCond  PavedDrive  PoolQC  Fence  \\\n0             1           4           4           2       3      4   \n1             1           4           4           2       3      4   \n2             1           4           4           2       3      4   \n3             2           4           4           2       3      4   \n4             1           4           4           2       3      4   \n\n   MiscFeature  SaleType  SaleCondition  \n0            4         8              4  \n1            4         8              4  \n2            4         8              4  \n3            4         8              0  \n4            4         8              4  \n\n[5 rows x 79 columns]",
      "text/html": "<div>\n<style scoped>\n    .dataframe tbody tr th:only-of-type {\n        vertical-align: middle;\n    }\n\n    .dataframe tbody tr th {\n        vertical-align: top;\n    }\n\n    .dataframe thead th {\n        text-align: right;\n    }\n</style>\n<table border=\"1\" class=\"dataframe\">\n  <thead>\n    <tr style=\"text-align: right;\">\n      <th></th>\n      <th>LotFrontage</th>\n      <th>LotArea</th>\n      <th>OverallQual</th>\n      <th>OverallCond</th>\n      <th>YearBuilt</th>\n      <th>YearRemodAdd</th>\n      <th>MasVnrArea</th>\n      <th>BsmtFinSF1</th>\n      <th>BsmtFinSF2</th>\n      <th>BsmtUnfSF</th>\n      <th>...</th>\n      <th>GarageType</th>\n      <th>GarageFinish</th>\n      <th>GarageQual</th>\n      <th>GarageCond</th>\n      <th>PavedDrive</th>\n      <th>PoolQC</th>\n      <th>Fence</th>\n      <th>MiscFeature</th>\n      <th>SaleType</th>\n      <th>SaleCondition</th>\n    </tr>\n  </thead>\n  <tbody>\n    <tr>\n      <th>0</th>\n      <td>65.0</td>\n      <td>8450</td>\n      <td>7</td>\n      <td>5</td>\n      <td>2003</td>\n      <td>2003</td>\n      <td>196.0</td>\n      <td>706</td>\n      <td>0</td>\n      <td>150</td>\n      <td>...</td>\n      <td>1</td>\n      <td>1</td>\n      <td>4</td>\n      <td>4</td>\n      <td>2</td>\n      <td>3</td>\n      <td>4</td>\n      <td>4</td>\n      <td>8</td>\n      <td>4</td>\n    </tr>\n    <tr>\n      <th>1</th>\n      <td>80.0</td>\n      <td>9600</td>\n      <td>6</td>\n      <td>8</td>\n      <td>1976</td>\n      <td>1976</td>\n      <td>0.0</td>\n      <td>978</td>\n      <td>0</td>\n      <td>284</td>\n      <td>...</td>\n      <td>1</td>\n      <td>1</td>\n      <td>4</td>\n      <td>4</td>\n      <td>2</td>\n      <td>3</td>\n      <td>4</td>\n      <td>4</td>\n      <td>8</td>\n      <td>4</td>\n    </tr>\n    <tr>\n      <th>2</th>\n      <td>68.0</td>\n      <td>11250</td>\n      <td>7</td>\n      <td>5</td>\n      <td>2001</td>\n      <td>2002</td>\n      <td>162.0</td>\n      <td>486</td>\n      <td>0</td>\n      <td>434</td>\n      <td>...</td>\n      <td>1</td>\n      <td>1</td>\n      <td>4</td>\n      <td>4</td>\n      <td>2</td>\n      <td>3</td>\n      <td>4</td>\n      <td>4</td>\n      <td>8</td>\n      <td>4</td>\n    </tr>\n    <tr>\n      <th>3</th>\n      <td>60.0</td>\n      <td>9550</td>\n      <td>7</td>\n      <td>5</td>\n      <td>1915</td>\n      <td>1970</td>\n      <td>0.0</td>\n      <td>216</td>\n      <td>0</td>\n      <td>540</td>\n      <td>...</td>\n      <td>5</td>\n      <td>2</td>\n      <td>4</td>\n      <td>4</td>\n      <td>2</td>\n      <td>3</td>\n      <td>4</td>\n      <td>4</td>\n      <td>8</td>\n      <td>0</td>\n    </tr>\n    <tr>\n      <th>4</th>\n      <td>84.0</td>\n      <td>14260</td>\n      <td>8</td>\n      <td>5</td>\n      <td>2000</td>\n      <td>2000</td>\n      <td>350.0</td>\n      <td>655</td>\n      <td>0</td>\n      <td>490</td>\n      <td>...</td>\n      <td>1</td>\n      <td>1</td>\n      <td>4</td>\n      <td>4</td>\n      <td>2</td>\n      <td>3</td>\n      <td>4</td>\n      <td>4</td>\n      <td>8</td>\n      <td>4</td>\n    </tr>\n  </tbody>\n</table>\n<p>5 rows × 79 columns</p>\n</div>"
     },
     "metadata": {},
     "execution_count": 59
    }
   ],
   "source": [
    "xtrain = xtrain_num.join(xtrain_cat)\n",
    "xtest = xtest_num.join(xtest_cat)\n",
    "xtrain.head()"
   ]
  },
  {
   "cell_type": "markdown",
   "metadata": {},
   "source": [
    "### Model training, evaluation, test prediction and submission file"
   ]
  },
  {
   "cell_type": "code",
   "execution_count": 60,
   "metadata": {},
   "outputs": [],
   "source": [
    "model = trainlgbm(xtrain, ytrain, n_est=1000)"
   ]
  },
  {
   "cell_type": "code",
   "execution_count": 61,
   "metadata": {},
   "outputs": [],
   "source": [
    "valid_predict = model.predict(xtrain)"
   ]
  },
  {
   "cell_type": "code",
   "execution_count": 62,
   "metadata": {
    "tags": []
   },
   "outputs": [
    {
     "output_type": "stream",
     "name": "stdout",
     "text": "The MSLE score is: 0.0000\n\nThe features importances are [1195 1840  456  230  791  879 1134 1742  154 1418 1765 2007 1233   18\n 1883  128   18  201   71  113   43  402  160  773   88 1808  736 1518\n  332   40   79    0   14 1022  472  183  115    0   23  188   63    0\n  104   10  727  341    0   80   54   78   43  279  277  139  264   50\n   45  139   43  344  172   98   17  174   47   22  140   41  183  101\n  146   14   32   46    0   84    4  164  163]\n\n"
    }
   ],
   "source": [
    "score(ytrain, valid_predict, model)"
   ]
  },
  {
   "cell_type": "code",
   "execution_count": 63,
   "metadata": {},
   "outputs": [],
   "source": [
    "test_predict = model.predict(xtest)"
   ]
  },
  {
   "cell_type": "code",
   "execution_count": 64,
   "metadata": {},
   "outputs": [],
   "source": [
    "make_submission(model, sample, xtest)"
   ]
  },
  {
   "cell_type": "code",
   "execution_count": null,
   "metadata": {},
   "outputs": [],
   "source": []
  }
 ],
 "metadata": {
  "language_info": {
   "codemirror_mode": {
    "name": "ipython",
    "version": 3
   },
   "file_extension": ".py",
   "mimetype": "text/x-python",
   "name": "python",
   "nbconvert_exporter": "python",
   "pygments_lexer": "ipython3",
   "version": "3.8.2-final"
  },
  "orig_nbformat": 2,
  "kernelspec": {
   "name": "python38264bit00e6579b7c2c41caa6a8aa7b3b13ad72",
   "display_name": "Python 3.8.2 64-bit"
  }
 },
 "nbformat": 4,
 "nbformat_minor": 2
}